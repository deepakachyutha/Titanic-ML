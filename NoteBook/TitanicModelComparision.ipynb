{
 "cells": [
  {
   "cell_type": "code",
   "execution_count": null,
   "id": "400b0b4d",
   "metadata": {},
   "outputs": [
    {
     "name": "stderr",
     "output_type": "stream",
     "text": [
      "<>:3: SyntaxWarning: invalid escape sequence '\\T'\n",
      "<>:3: SyntaxWarning: invalid escape sequence '\\T'\n",
      "C:\\Users\\deepa\\AppData\\Local\\Temp\\ipykernel_22356\\2240491894.py:3: SyntaxWarning: invalid escape sequence '\\T'\n",
      "  titanic = pd.read_csv(\"C:\\Titanic-ML\\Dataset\\TitanicModelComparison.csv\")\n"
     ]
    },
    {
     "data": {
      "text/html": [
       "<div>\n",
       "<style scoped>\n",
       "    .dataframe tbody tr th:only-of-type {\n",
       "        vertical-align: middle;\n",
       "    }\n",
       "\n",
       "    .dataframe tbody tr th {\n",
       "        vertical-align: top;\n",
       "    }\n",
       "\n",
       "    .dataframe thead th {\n",
       "        text-align: right;\n",
       "    }\n",
       "</style>\n",
       "<table border=\"1\" class=\"dataframe\">\n",
       "  <thead>\n",
       "    <tr style=\"text-align: right;\">\n",
       "      <th></th>\n",
       "      <th>Survived</th>\n",
       "      <th>Pclass</th>\n",
       "      <th>Sex</th>\n",
       "      <th>Age</th>\n",
       "      <th>SibSp</th>\n",
       "      <th>Parch</th>\n",
       "      <th>Fare</th>\n",
       "      <th>Embarked</th>\n",
       "    </tr>\n",
       "  </thead>\n",
       "  <tbody>\n",
       "    <tr>\n",
       "      <th>0</th>\n",
       "      <td>0</td>\n",
       "      <td>3</td>\n",
       "      <td>0</td>\n",
       "      <td>22.0</td>\n",
       "      <td>1</td>\n",
       "      <td>0</td>\n",
       "      <td>7.2500</td>\n",
       "      <td>0</td>\n",
       "    </tr>\n",
       "    <tr>\n",
       "      <th>1</th>\n",
       "      <td>1</td>\n",
       "      <td>1</td>\n",
       "      <td>1</td>\n",
       "      <td>38.0</td>\n",
       "      <td>1</td>\n",
       "      <td>0</td>\n",
       "      <td>71.2833</td>\n",
       "      <td>1</td>\n",
       "    </tr>\n",
       "    <tr>\n",
       "      <th>2</th>\n",
       "      <td>1</td>\n",
       "      <td>3</td>\n",
       "      <td>1</td>\n",
       "      <td>26.0</td>\n",
       "      <td>0</td>\n",
       "      <td>0</td>\n",
       "      <td>7.9250</td>\n",
       "      <td>0</td>\n",
       "    </tr>\n",
       "    <tr>\n",
       "      <th>3</th>\n",
       "      <td>1</td>\n",
       "      <td>1</td>\n",
       "      <td>1</td>\n",
       "      <td>35.0</td>\n",
       "      <td>1</td>\n",
       "      <td>0</td>\n",
       "      <td>53.1000</td>\n",
       "      <td>0</td>\n",
       "    </tr>\n",
       "    <tr>\n",
       "      <th>4</th>\n",
       "      <td>0</td>\n",
       "      <td>3</td>\n",
       "      <td>0</td>\n",
       "      <td>35.0</td>\n",
       "      <td>0</td>\n",
       "      <td>0</td>\n",
       "      <td>8.0500</td>\n",
       "      <td>0</td>\n",
       "    </tr>\n",
       "  </tbody>\n",
       "</table>\n",
       "</div>"
      ],
      "text/plain": [
       "   Survived  Pclass  Sex   Age  SibSp  Parch     Fare  Embarked\n",
       "0         0       3    0  22.0      1      0   7.2500         0\n",
       "1         1       1    1  38.0      1      0  71.2833         1\n",
       "2         1       3    1  26.0      0      0   7.9250         0\n",
       "3         1       1    1  35.0      1      0  53.1000         0\n",
       "4         0       3    0  35.0      0      0   8.0500         0"
      ]
     },
     "execution_count": 1,
     "metadata": {},
     "output_type": "execute_result"
    }
   ],
   "source": [
    "import pandas as pd\n",
    "\n",
    "titanic = pd.read_csv(\"..\\Dataset\\TitanicModelComparison.csv\")\n",
    "\n",
    "# Data Preprocessing \n",
    "## Data Cleaning\n",
    "titanic = titanic.drop(columns=['PassengerId', 'Name', 'Ticket', 'Cabin'])\n",
    "titanic['Age'] = titanic['Age'].fillna(titanic['Age'].mean())\n",
    "titanic['Embarked'] = titanic['Embarked'].fillna('S')\n",
    "titanic['Sex'] = titanic['Sex'].fillna('male') \n",
    "titanic['SibSp'] = titanic['SibSp'].fillna(0)\n",
    "titanic['Parch'] = titanic['Parch'].fillna(0)\n",
    "titanic['Fare'] = titanic['Fare'].fillna(titanic['Fare'].mean())\n",
    "\n",
    "## Data Transformation\n",
    "titanic['Survived'] = titanic['Survived'].fillna(0)\n",
    "titanic['Sex'] = titanic['Sex'].map({'male' : 0, 'female' : 1})\n",
    "titanic['Embarked'] = titanic['Embarked'].map({'S' : 0, 'C' : 1, 'Q' : 2})\n",
    "\n",
    "titanic.head()"
   ]
  },
  {
   "cell_type": "code",
   "execution_count": 2,
   "id": "913814ef",
   "metadata": {},
   "outputs": [
    {
     "name": "stdout",
     "output_type": "stream",
     "text": [
      "KNN Model Accuracy: 72.22%\n",
      "\n",
      "DTC Model Accuracy: 77.78%\n",
      "\n",
      "RFC Model Accuracy: 81.11%\n",
      "\n"
     ]
    }
   ],
   "source": [
    "# Model Comparison and Accuracy \n",
    "from sklearn.neighbors import KNeighborsClassifier\n",
    "from sklearn.tree import DecisionTreeClassifier\n",
    "from sklearn.ensemble import RandomForestClassifier\n",
    "from sklearn.model_selection import train_test_split\n",
    "from sklearn.metrics import accuracy_score\n",
    "\n",
    "feat = ['Pclass','Sex','Age','SibSp','Parch','Fare','Embarked']\n",
    "x = titanic[feat]\n",
    "y = titanic['Survived']\n",
    "models = {\n",
    "    'KNN' : KNeighborsClassifier(n_neighbors=5),\n",
    "    'DTC' : DecisionTreeClassifier(random_state=42),\n",
    "    'RFC': RandomForestClassifier(random_state=42)\n",
    "}\n",
    "x_train, x_test, y_train, y_test = train_test_split(x, y, test_size=0.1, random_state=42)\n",
    "for name, model in models.items():\n",
    "    model.fit(x_train, y_train)\n",
    "    pred = model.predict(x_test)\n",
    "    acc = accuracy_score(y_test, pred)\n",
    "    print(f\"{name} Model Accuracy: {acc:.2%}\\n\")"
   ]
  },
  {
   "cell_type": "code",
   "execution_count": null,
   "id": "1aa7253c",
   "metadata": {},
   "outputs": [
    {
     "name": "stderr",
     "output_type": "stream",
     "text": [
      "<>:2: SyntaxWarning: invalid escape sequence '\\T'\n",
      "<>:2: SyntaxWarning: invalid escape sequence '\\T'\n",
      "C:\\Users\\deepa\\AppData\\Local\\Temp\\ipykernel_22356\\724324106.py:2: SyntaxWarning: invalid escape sequence '\\T'\n",
      "  titanic.to_csv(\"C:\\Titanic-ML\\Dataset\\TitanicUpdated.csv\", index=False)\n"
     ]
    },
    {
     "data": {
      "image/png": "[encoded data removed]",
      "text/plain": [
       "<Figure size 640x480 with 1 Axes>"
      ]
     },
     "metadata": {},
     "output_type": "display_data"
    }
   ],
   "source": [
    "# Saving the changes into CSV \n",
    "titanic.to_csv(\"C:\\Titanic-ML\\Dataset\\TitanicUpdated.csv\", index=False)\n"
   ]
  },
  {
   "cell_type": "code",
   "execution_count": 13,
   "id": "7f2c37cb",
   "metadata": {},
   "outputs": [
    {
     "data": {
      "image/png": "[encoded data removed]",
      "text/plain": [
       "<Figure size 640x480 with 1 Axes>"
      ]
     },
     "metadata": {},
     "output_type": "display_data"
    }
   ],
   "source": [
    "import matplotlib.pyplot as plt\n",
    "\n",
    "rf = models['RFC']\n",
    "importances = pd.Series(rf.feature_importances_, index=feat)\n",
    "importances.sort_values().plot(kind='barh')\n",
    "plt.tight_layout()\n",
    "plt.show()\n"
   ]
  }
 ],
 "metadata": {
  "kernelspec": {
   "display_name": "Python 3",
   "language": "python",
   "name": "python3"
  },
  "language_info": {
   "codemirror_mode": {
    "name": "ipython",
    "version": 3
   },
   "file_extension": ".py",
   "mimetype": "text/x-python",
   "name": "python",
   "nbconvert_exporter": "python",
   "pygments_lexer": "ipython3",
   "version": "3.13.2"
  }
 },
 "nbformat": 4,
 "nbformat_minor": 5
}
